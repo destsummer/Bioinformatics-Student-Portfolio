{
  "nbformat": 4,
  "nbformat_minor": 0,
  "metadata": {
    "colab": {
      "name": "Copy of Homework 3: Word Embeddings with Autoencoder - A Primer on Deep Learning in Genomics - Public.ipynb",
      "provenance": [],
      "collapsed_sections": [],
      "include_colab_link": true
    },
    "kernelspec": {
      "name": "python3",
      "display_name": "Python 3"
    },
    "accelerator": "GPU"
  },
  "cells": [
    {
      "cell_type": "markdown",
      "metadata": {
        "id": "view-in-github",
        "colab_type": "text"
      },
      "source": [
        "<a href=\"https://colab.research.google.com/github/destsummer/Bioinformatics-Student-Portfolio/blob/master/WordEmbeddings_Autoencoder_DeepLearningGenomics.ipynb\" target=\"_parent\"><img src=\"https://colab.research.google.com/assets/colab-badge.svg\" alt=\"Open In Colab\"/></a>"
      ]
    },
    {
      "cell_type": "markdown",
      "metadata": {
        "id": "R46-rwd4hNMn",
        "colab_type": "text"
      },
      "source": [
        "# Homework 3: K-mer Embeddings with Autoencoders - Deep Learning in Genomics Primer (*Tutorial*)"
      ]
    },
    {
      "cell_type": "markdown",
      "metadata": {
        "id": "eiiwjw4yhX0P",
        "colab_type": "text"
      },
      "source": [
        "In this homework we will encode DNA sequences not directly nucleotide-by-nucleotide but instead by defining words and encoding a dictionary of same length sequence fragments (\"k-mers\"). \n",
        "\n",
        "\n",
        "This tutorial is based  on the supplement to the manuscript, **A Primer on Deep Learning in Genomics** (*Nature Genetics, 2018*) by James Zou, Mikael Huss, Abubakar Abid, Pejman Mohammadi, Ali Torkamani & Amalio Telentil. [Read the accompanying paper here](https://www.nature.com/articles/s41588-018-0295-5).\n"
      ]
    },
    {
      "cell_type": "markdown",
      "metadata": {
        "id": "0xg8bLZv1DSX",
        "colab_type": "text"
      },
      "source": [
        "## Instructions\n",
        "\n",
        "1. Create a local copy of this notebook with File->Save a copy in Drive\n",
        "2. Read the document and the code cells. Whereever you find YOUR CODE GOES HERE in the code, change it accordingly. Make changes in the order they appear in the code. Initial versions of the code will create error messages. That is OK as long as the error messages appear in code cells that appear later than the part of the code you are currently working on.\n",
        "3. Iterate through point 2. until the model can be trained and evaluated without error messages. Compute the accuracy of the model.\n",
        "4. Once this part of the code works, we want to find out which word lengths and which number of autoencoder dimensions (implemented as Keras layer called `Embedding`) is optimal. Vary both variables `wordlen` and `targetdim` to have values 2,3,4 leading to 9 different combinations. Compute accuracies for each of these 9 different values by using Runtime->Restart and Run all.  Enter these values manually in the table provided at the end of this document. Which combination is optimal? Slight variations due to random number seed effects are OK."
      ]
    },
    {
      "cell_type": "markdown",
      "metadata": {
        "id": "TZcUh5qzgtBY",
        "colab_type": "text"
      },
      "source": [
        "## How to Use This Tutorial "
      ]
    },
    {
      "cell_type": "markdown",
      "metadata": {
        "id": "p4IYB8eq3E5f",
        "colab_type": "text"
      },
      "source": [
        ""
      ]
    },
    {
      "cell_type": "markdown",
      "metadata": {
        "id": "nXiQhNqah2R-",
        "colab_type": "text"
      },
      "source": [
        "This tutorial utilizes a Colab notebook , which is an interactive computational enviroment that combines live code, visualizations, and explanatory text. To run this notebook, you may first need to make a copy by choosing **File > Save a Copy in Drive** from the menu bar (may take a few moments to save).\n",
        "\n",
        "The notebook is organized into a series of cells. You can modify the Python command and execute each cell as you would a Jupyter notebook. To run all of the cells at once, choose **Runtime > Run all** from the menu bar."
      ]
    },
    {
      "cell_type": "markdown",
      "metadata": {
        "id": "fb-0kBFAts0-",
        "colab_type": "text"
      },
      "source": [
        "## 0. Background"
      ]
    },
    {
      "cell_type": "markdown",
      "metadata": {
        "id": "QABdxctitugX",
        "colab_type": "text"
      },
      "source": [
        "In this tutorial, we will show how to use deep learning to approach an important problem in functional genomics: **the discovery of transcription-factor binding sites in DNA**.\n",
        "\n",
        "As we go through this notebook, we will  design a neural network that can discover binding motifs in DNA based on the results of an assay that determines whether a longer DNA sequence binds to the protein or not. Here, the longer DNA sequences are our *independent variables* (or *predictors*), while the positive or negative response of the assay is the *dependent variable* (or *response*).\n",
        "\n",
        "We will use simulated data that consists of DNA sequences of length 50 bases (chosen to be artificially short so that the data is easy to play around with), and is labeled with 0 or 1 depending on the result of the assay. Our goal is to build a classifier that can predict whether a particular sequence will bind to the protein and discover the short motif that is the binding site in the sequences that are bound to the protein.\n",
        "\n",
        "(Spoiler alert: the true regulatory motif is *`CGACCGAACTCC`*. Of course, the neural network doesn't know this.)\n"
      ]
    },
    {
      "cell_type": "markdown",
      "metadata": {
        "id": "aK7wr8n8gzQ_",
        "colab_type": "text"
      },
      "source": [
        "## 1. Curate the Data"
      ]
    },
    {
      "cell_type": "markdown",
      "metadata": {
        "id": "5T-FgQrNq1vS",
        "colab_type": "text"
      },
      "source": [
        "![alt text](https://github.com/abidlabs/deep-learning-genomics-primer/blob/master/Screenshot%20from%202018-08-01%2020-31-01.png?raw=true)"
      ]
    },
    {
      "cell_type": "markdown",
      "metadata": {
        "id": "QRMSFdUSubgX",
        "colab_type": "text"
      },
      "source": [
        "As in previous versions of this tutorial, we start by loading the data. Also, we will define an encoding for same-length words.\n",
        "\n",
        "We start by loading the simulated data from an external repository."
      ]
    },
    {
      "cell_type": "code",
      "metadata": {
        "id": "B_F7VoAMhLiX",
        "colab_type": "code",
        "outputId": "8a51507f-fd36-4f97-c891-79abd702e32f",
        "colab": {
          "base_uri": "https://localhost:8080/",
          "height": 195
        }
      },
      "source": [
        "import numpy as np\n",
        "import pandas as pd\n",
        "import matplotlib.pyplot as plt\n",
        "import requests\n",
        "\n",
        "alphabet = ('A','C','G','T')\n",
        "nalpha = len(alphabet)\n",
        "seqlen = 50 # character sequence lengths DO NOT CHANGE\n",
        "\n",
        "# wordlen and targetdim MAY BE CHANGED ONCE YOUR CODE RUNS WITHOUT ERRORS: \n",
        "wordlen = 2 # length of consecutive characters/integers used as \"word\"\n",
        "targetdim = 2 # number of dimensions used by Embedding layer\n",
        "\n",
        "numwords = nalpha ^ wordlen # YOUR CODE GOES HERE: number of diff. words = size of dictionary\n",
        "\n",
        "# HOW MANY WORDS OF LENGTH wordlen FIT INTO SEQUENCE OF LENGTH seqlen?\n",
        "inputlen = int(seqlen/wordlen) # YOUR CODE GOES HERE: number of integer sequences fed to model\n",
        "\n",
        "def my_integer_encode(s):\n",
        "    ary = np.zeros((len(s),1))\n",
        "    for i in range(0,len(s)):\n",
        "        code = 0\n",
        "        if s[i] == 'A':\n",
        "            code = 0\n",
        "        elif s[i] == 'C':\n",
        "            code = 1\n",
        "        elif s[i] == 'G':\n",
        "            code = 2\n",
        "        elif s[i] == 'T':\n",
        "            code = 3\n",
        "        else:\n",
        "            warnings.warn(\"Bad sequence character at position \",(i+1),\":\",s[i],\":\",s)\n",
        "        ary[i,0] = code\n",
        "    return ary         \n",
        "\n",
        "\n",
        "def my_wordindex_encode(v,wlen,base):\n",
        "    '''for a vector of integers, return array of hashes corresponding to\n",
        "       overlapping words of length wlen:\n",
        "       \n",
        "       Parameters:\n",
        "       v: input vector: DNA sequence encoded as numbers 0,1,2,3\n",
        "       wlen: number of digits (=nucleotides) of each word\n",
        "       base: number of character codes - in case of DNA or RNA set base to 4\n",
        "       \n",
        "       Returns: Array with hash codes of each word\n",
        "    '''\n",
        "    na = inputlen # YOUR CODE GOES HERE: MAXIMUM INDEX (EXCLUSIVE) OF FIRST DIGIT OF \n",
        "            # WORD SO THAT WHOLE WORD IT FITS INTO VECTOR V\n",
        "            # SAME AS NUMBER OF OVERLAPPING WORDS THAT FIT INTO v\n",
        "    ary = np.zeros((na,1))\n",
        "    for i in range(0,na):\n",
        "        x = 0 # WILL BE HASH CODE CORRESPONDING TO WORD\n",
        "        for j in range(0,wlen):\n",
        "           p = wlen - j - 1\n",
        "           x += v[j] * (4^p) # YOUR CODE GOES HERE\n",
        "           ary[i] = x\n",
        "    return ary\n",
        "      \n",
        "SEQUENCES_URL = 'https://raw.githubusercontent.com/abidlabs/deep-learning-genomics-primer/master/sequences.txt'\n",
        "\n",
        "sequences = requests.get(SEQUENCES_URL).text.split('\\n')\n",
        "sequences = list(filter(None, sequences))  # This removes empty sequences.\n",
        "\n",
        "# Let's print the first few sequences.\n",
        "pd.DataFrame(sequences, index=np.arange(1, len(sequences)+1), \n",
        "             columns=['Sequences']).head()"
      ],
      "execution_count": 0,
      "outputs": [
        {
          "output_type": "execute_result",
          "data": {
            "text/html": [
              "<div>\n",
              "<style scoped>\n",
              "    .dataframe tbody tr th:only-of-type {\n",
              "        vertical-align: middle;\n",
              "    }\n",
              "\n",
              "    .dataframe tbody tr th {\n",
              "        vertical-align: top;\n",
              "    }\n",
              "\n",
              "    .dataframe thead th {\n",
              "        text-align: right;\n",
              "    }\n",
              "</style>\n",
              "<table border=\"1\" class=\"dataframe\">\n",
              "  <thead>\n",
              "    <tr style=\"text-align: right;\">\n",
              "      <th></th>\n",
              "      <th>Sequences</th>\n",
              "    </tr>\n",
              "  </thead>\n",
              "  <tbody>\n",
              "    <tr>\n",
              "      <th>1</th>\n",
              "      <td>CCGAGGGCTATGGTTTGGAAGTTAGAACCCTGGGGCTTCTCGCGGA...</td>\n",
              "    </tr>\n",
              "    <tr>\n",
              "      <th>2</th>\n",
              "      <td>GAGTTTATATGGCGCGAGCCTAGTGGTTTTTGTACTTGTTTGTCGC...</td>\n",
              "    </tr>\n",
              "    <tr>\n",
              "      <th>3</th>\n",
              "      <td>GATCAGTAGGGAAACAAACAGAGGGCCCAGCCACATCTAGCAGGTA...</td>\n",
              "    </tr>\n",
              "    <tr>\n",
              "      <th>4</th>\n",
              "      <td>GTCCACGACCGAACTCCCACCTTGACCGCAGAGGTACCACCAGAGC...</td>\n",
              "    </tr>\n",
              "    <tr>\n",
              "      <th>5</th>\n",
              "      <td>GGCGACCGAACTCCAACTAGAACCTGCATAACTGGCCTGGGAGATA...</td>\n",
              "    </tr>\n",
              "  </tbody>\n",
              "</table>\n",
              "</div>"
            ],
            "text/plain": [
              "                                           Sequences\n",
              "1  CCGAGGGCTATGGTTTGGAAGTTAGAACCCTGGGGCTTCTCGCGGA...\n",
              "2  GAGTTTATATGGCGCGAGCCTAGTGGTTTTTGTACTTGTTTGTCGC...\n",
              "3  GATCAGTAGGGAAACAAACAGAGGGCCCAGCCACATCTAGCAGGTA...\n",
              "4  GTCCACGACCGAACTCCCACCTTGACCGCAGAGGTACCACCAGAGC...\n",
              "5  GGCGACCGAACTCCAACTAGAACCTGCATAACTGGCCTGGGAGATA..."
            ]
          },
          "metadata": {
            "tags": []
          },
          "execution_count": 1
        }
      ]
    },
    {
      "cell_type": "markdown",
      "metadata": {
        "id": "bzsbNHqWiFek",
        "colab_type": "text"
      },
      "source": [
        "The next  step is to organize the data into a format that can be passed into a deep learning algorithm. Most deep learning algorithms accept data in the form of vectors or matrices (or more generally, tensors). \n",
        "\n",
        "To get each DNA sequence in the form of a matrix, we use _one-hot encoding_, which encodes every base in a sequence in the form of a 4-dimensional vector, with a separate dimension for each base. We place a \"1\" in the dimension corresponding to the base found in the DNA sequence, and \"0\"s in all other slots. We then concatenate these 4-dimensional vectors together along the bases in the sequence to form a matrix. \n",
        "\n",
        "In the cell below, we encode the simulated DNA sequences using integers that represent dictionary indices of words (k-mers):"
      ]
    },
    {
      "cell_type": "code",
      "metadata": {
        "id": "IPJD6PuDnaS6",
        "colab_type": "code",
        "colab": {}
      },
      "source": [
        "%%capture\n",
        "# warnings are supppressed\n",
        "\n",
        "from sklearn.preprocessing import OneHotEncoder, LabelEncoder\n",
        "\n",
        "input_features = np.zeros((len(sequences),inputlen))\n",
        "\n",
        "for i,sequence in enumerate(sequences):\n",
        "  # encode A,C,G,T as 0,1,2,3:\n",
        "  integer_encoded = my_integer_encode(sequence) # turn A,C,G,T to 0,1,2,3\n",
        "  # create integers for consecutive sets of integer indices\n",
        "  integer_encoded = my_wordindex_encode(integer_encoded, wordlen, nalpha) # hashes\n",
        "  # change shape to variable number of rows, 1 column:\n",
        "  integer_encoded = np.array(integer_encoded).reshape(-1, 1)\n",
        "  for j in range(0,integer_encoded.shape[0]):\n",
        "      input_features[i,j] = integer_encoded[j]\n",
        "\n",
        "np.set_printoptions(threshold=40)\n",
        "input_features = np.stack(input_features)"
      ],
      "execution_count": 0,
      "outputs": []
    },
    {
      "cell_type": "markdown",
      "metadata": {
        "id": "MfaeKlfBv2cR",
        "colab_type": "text"
      },
      "source": [
        "Some debug output:"
      ]
    },
    {
      "cell_type": "code",
      "metadata": {
        "id": "QnTfmKsEv5s2",
        "colab_type": "code",
        "outputId": "03fe7f92-2eae-478b-b98d-2e3c621c74ea",
        "colab": {
          "base_uri": "https://localhost:8080/",
          "height": 154
        }
      },
      "source": [
        "print(\"Example sequence\\n-----------------------\")\n",
        "print('DNA Sequence #1:\\n',sequences[0][:10],'...',sequences[0][-10:])\n",
        "print('One hot encoding of Sequence #1:\\n',len(sequences[0]), input_features[0].shape,':',\n",
        "      input_features[0].T)"
      ],
      "execution_count": 0,
      "outputs": [
        {
          "output_type": "stream",
          "text": [
            "Example sequence\n",
            "-----------------------\n",
            "DNA Sequence #1:\n",
            " CCGAGGGCTA ... CGCGGACACC\n",
            "One hot encoding of Sequence #1:\n",
            " 50 (25,) : [9. 9. 9. 9. 9. 9. 9. 9. 9. 9. 9. 9. 9. 9. 9. 9. 9. 9. 9. 9. 9. 9. 9. 9.\n",
            " 9.]\n"
          ],
          "name": "stdout"
        }
      ]
    },
    {
      "cell_type": "markdown",
      "metadata": {
        "id": "AbBmrEVGrahN",
        "colab_type": "text"
      },
      "source": [
        "Similarly, we can go ahead and load the labels (_response variables_). In this case, the labels are structured as follows: a \"1\" indicates that a protein bound to the sequence, while a \"0\" indicates that the protein did not. While we could use the labels as a vector, it is often easier to similarly one-hot encode the labels, as we did the features. We carry out that here:"
      ]
    },
    {
      "cell_type": "code",
      "metadata": {
        "id": "IA9FJeQkr1Ze",
        "colab_type": "code",
        "outputId": "5389e080-62c4-470b-a19c-343fc364e9c3",
        "colab": {
          "base_uri": "https://localhost:8080/",
          "height": 154
        }
      },
      "source": [
        "LABELS_URL = 'https://raw.githubusercontent.com/abidlabs/deep-learning-genomics-primer/master/labels.txt'\n",
        "\n",
        "labels = requests.get(LABELS_URL).text.split('\\n')\n",
        "labels = list(filter(None, labels))  # removes empty sequences\n",
        "\n",
        "one_hot_encoder = OneHotEncoder(n_values=2)\n",
        "labels = np.array(labels).reshape(-1, 1)\n",
        "input_labels = one_hot_encoder.fit_transform(labels).toarray()\n",
        "\n",
        "print('Labels:\\n',labels.T)\n",
        "print('One-hot encoded labels:\\n',input_labels.T)"
      ],
      "execution_count": 0,
      "outputs": [
        {
          "output_type": "stream",
          "text": [
            "Labels:\n",
            " [['0' '0' '0' ... '0' '1' '1']]\n",
            "One-hot encoded labels:\n",
            " [[1. 1. 1. ... 1. 0. 0.]\n",
            " [0. 0. 0. ... 0. 1. 1.]]\n"
          ],
          "name": "stdout"
        },
        {
          "output_type": "stream",
          "text": [
            "/usr/local/lib/python3.6/dist-packages/sklearn/preprocessing/_encoders.py:331: DeprecationWarning: Passing 'n_values' is deprecated in version 0.20 and will be removed in 0.22. You can use the 'categories' keyword instead. 'n_values=n' corresponds to 'categories=[range(n)]'.\n",
            "  warnings.warn(msg, DeprecationWarning)\n"
          ],
          "name": "stderr"
        }
      ]
    },
    {
      "cell_type": "markdown",
      "metadata": {
        "id": "JsMmPTASE3qo",
        "colab_type": "text"
      },
      "source": [
        "Here are some technicalities that you can skip over related to random number seeds:"
      ]
    },
    {
      "cell_type": "code",
      "metadata": {
        "id": "ois4yPAqE-BC",
        "colab_type": "code",
        "outputId": "6862b25a-4120-4de9-d4d3-b04ddd546232",
        "colab": {
          "base_uri": "https://localhost:8080/",
          "height": 34
        }
      },
      "source": [
        "# DO NOT CHANGE THIS CODE\n",
        "# SKIP READING CODE TO NEXT CODE CELL\n",
        "\n",
        "seed_value= 0\n",
        "\n",
        "# 1. Set `PYTHONHASHSEED` environment variable at a fixed value\n",
        "import os\n",
        "os.environ['PYTHONHASHSEED']=str(seed_value)\n",
        "\n",
        "# 2. Set `python` built-in pseudo-random generator at a fixed value\n",
        "import random\n",
        "random.seed(seed_value)\n",
        "\n",
        "# 3. Set `numpy` pseudo-random generator at a fixed value\n",
        "import numpy as np\n",
        "np.random.seed(seed_value)\n",
        "\n",
        "# 4. Set `tensorflow` pseudo-random generator at a fixed value\n",
        "import tensorflow as tf\n",
        "tf.set_random_seed(seed_value)\n",
        "\n",
        "# 5. Configure a new global `tensorflow` session\n",
        "from keras import backend as K\n",
        "session_conf = tf.ConfigProto(intra_op_parallelism_threads=1, inter_op_parallelism_threads=1)\n",
        "sess = tf.Session(graph=tf.get_default_graph(), config=session_conf)\n",
        "K.set_session(sess)"
      ],
      "execution_count": 0,
      "outputs": [
        {
          "output_type": "stream",
          "text": [
            "Using TensorFlow backend.\n"
          ],
          "name": "stderr"
        }
      ]
    },
    {
      "cell_type": "markdown",
      "metadata": {
        "id": "MTokFzDZvQR-",
        "colab_type": "text"
      },
      "source": [
        "We also go ahead and split the data into training and test sets. The purpose of the test set is to ensure that we can observe the performance of the model on new data, not seen previously during training. At a later step, we will further partition the training set into a training and validation set."
      ]
    },
    {
      "cell_type": "code",
      "metadata": {
        "id": "P_7LKgvc3Lnn",
        "colab_type": "code",
        "colab": {}
      },
      "source": [
        "from sklearn.model_selection import train_test_split\n",
        "\n",
        "train_features, test_features, train_labels, test_labels = train_test_split(\n",
        "    input_features, input_labels, test_size=0.25, random_state=42)"
      ],
      "execution_count": 0,
      "outputs": []
    },
    {
      "cell_type": "markdown",
      "metadata": {
        "id": "7LQp2ZFrg6dm",
        "colab_type": "text"
      },
      "source": [
        "## 2. Select the Architecture and Train"
      ]
    },
    {
      "cell_type": "markdown",
      "metadata": {
        "id": "xBT6Q3j-sjhh",
        "colab_type": "text"
      },
      "source": [
        "![alt text](https://github.com/abidlabs/deep-learning-genomics-primer/blob/master/Screenshot%20from%202018-08-01%2020-31-49.png?raw=true)"
      ]
    },
    {
      "cell_type": "markdown",
      "metadata": {
        "id": "krHJgtK_rzif",
        "colab_type": "text"
      },
      "source": [
        "Next, we choose a neural network architecture to train the model. In this tutorial, we choose a simple 1D convolutional neural network (CNN), which is commonly used in deep learning for functional genomics applications.\n",
        "\n",
        "A CNN learns to recognize patterns that are generally invariant across space, by trying to match the input sequence to a number of learnable \"filters\" of a fixed size. In our dataset, the filters will be motifs within the DNA sequences. The CNN may then learn to combine these filters to recognize a larger structure (e.g. the presence or absence of a transcription factor binding site). \n",
        "\n",
        "We will use the deep learning library `Keras`. As of 2017, `Keras` has been integrated into `TensorFlow`,  which makes it very easy to construct neural networks. We only need to specify the kinds of layers we would like to include in our network, and the dimensionality of each layer. The CNN we generate in this example consists of the following layers:\n",
        "\n",
        "- _Conv1D_: We define our convolutional layer to have 32 filters of size 12 bases.\n",
        "\n",
        "- _MaxPooling1D_: After the convolution, we use a pooling layer to down-sample the output of the each of the 32 convolutional filters. Though not always required, this is a typical form of non-linear down-sampling used in CNNs.\n",
        "\n",
        "- _Flatten_: This layer flattens the output of the max pooling layer, combining the results of the convolution and pooling layers across all 32 filters. \n",
        "\n",
        "- _Dense_: The first Dense tensor creates a layer (dense_1) that compresses the representation of the flattened layer, resulting in smaller layer with 16 tensors, and the second Dense function converges the tensors into the output layer (dense_2) that consists of the two possible response values (0 or 1).\n",
        "\n",
        "We can see the details of the architecture of the neural network we have created by running `model.summary()`, which prints the dimensionality and number of parameters for each layer in our network. "
      ]
    },
    {
      "cell_type": "code",
      "metadata": {
        "id": "dU3imaIns80_",
        "colab_type": "code",
        "outputId": "c8d442ae-466a-49cd-ad51-efacb3b29fba",
        "colab": {
          "base_uri": "https://localhost:8080/",
          "height": 423
        }
      },
      "source": [
        "from tensorflow.keras.layers import Conv1D, Dense, MaxPooling1D, Flatten,Embedding\n",
        "from tensorflow.keras.models import Sequential\n",
        "print(\"train_features.shape:\",train_features.shape)\n",
        "model = Sequential()\n",
        "# Add Embedding layer that encodes our dictionary codes in targetdim dimensions:\n",
        "# Hint: Embedding needs 3 arguments: number of possible input codes, \n",
        "# number of target dimensions and \"input_length\" set to number of integer codes\n",
        "# that correspond to one case (in our example one DNA sequence)\n",
        "# model.add(Embedding(...)) # YOUR CODE GOES HERE\n",
        "model.add(Embedding(numwords, targetdim, input_length=inputlen))\n",
        "model.add(Conv1D(filters=32, kernel_size=12 ) )\n",
        "model.add(MaxPooling1D(pool_size=4))\n",
        "model.add(Flatten())\n",
        "model.add(Dense(16, activation='relu'))\n",
        "model.add(Dense(2, activation='softmax'))\n",
        "\n",
        "model.compile(loss='binary_crossentropy', optimizer='adam', \n",
        "              metrics=['binary_accuracy'])\n",
        "model.summary()"
      ],
      "execution_count": 0,
      "outputs": [
        {
          "output_type": "stream",
          "text": [
            "train_features.shape: (1500, 25)\n",
            "WARNING:tensorflow:From /usr/local/lib/python3.6/dist-packages/tensorflow/python/ops/resource_variable_ops.py:435: colocate_with (from tensorflow.python.framework.ops) is deprecated and will be removed in a future version.\n",
            "Instructions for updating:\n",
            "Colocations handled automatically by placer.\n",
            "_________________________________________________________________\n",
            "Layer (type)                 Output Shape              Param #   \n",
            "=================================================================\n",
            "embedding (Embedding)        (None, 25, 2)             12        \n",
            "_________________________________________________________________\n",
            "conv1d (Conv1D)              (None, 14, 32)            800       \n",
            "_________________________________________________________________\n",
            "max_pooling1d (MaxPooling1D) (None, 3, 32)             0         \n",
            "_________________________________________________________________\n",
            "flatten (Flatten)            (None, 96)                0         \n",
            "_________________________________________________________________\n",
            "dense (Dense)                (None, 16)                1552      \n",
            "_________________________________________________________________\n",
            "dense_1 (Dense)              (None, 2)                 34        \n",
            "=================================================================\n",
            "Total params: 2,398\n",
            "Trainable params: 2,398\n",
            "Non-trainable params: 0\n",
            "_________________________________________________________________\n"
          ],
          "name": "stdout"
        }
      ]
    },
    {
      "cell_type": "markdown",
      "metadata": {
        "id": "qSOUwoG_vHRA",
        "colab_type": "text"
      },
      "source": [
        "Now, we are ready to go ahead and train the neural network. We will further divide the training set into a training and validation set. We will train only on the reduced training set, but plot the loss curve on both the training and validation sets. Once the loss for the validation set stops improving or gets worse throughout the learning cycles, it is time to stop training because the model has already converged and may be just overfitting."
      ]
    },
    {
      "cell_type": "code",
      "metadata": {
        "id": "LSOmHIM83hXO",
        "colab_type": "code",
        "outputId": "6c4578bc-9c9b-441a-cef8-e45f34f5565b",
        "colab": {
          "base_uri": "https://localhost:8080/",
          "height": 2062
        }
      },
      "source": [
        "history = model.fit(train_features, train_labels, \n",
        "                    epochs=50, verbose=1, validation_split=0.25)\n",
        "\n",
        "plt.figure()\n",
        "plt.plot(history.history['loss'])\n",
        "plt.plot(history.history['val_loss'])\n",
        "plt.title('model loss')\n",
        "plt.ylabel('loss')\n",
        "plt.xlabel('epoch')\n",
        "plt.legend(['train', 'validation'])\n",
        "plt.show()"
      ],
      "execution_count": 0,
      "outputs": [
        {
          "output_type": "stream",
          "text": [
            "Train on 1125 samples, validate on 375 samples\n",
            "WARNING:tensorflow:From /usr/local/lib/python3.6/dist-packages/tensorflow/python/ops/math_ops.py:3066: to_int32 (from tensorflow.python.ops.math_ops) is deprecated and will be removed in a future version.\n",
            "Instructions for updating:\n",
            "Use tf.cast instead.\n",
            "Epoch 1/50\n",
            "1125/1125 [==============================] - 2s 2ms/sample - loss: 0.6938 - binary_accuracy: 0.4813 - val_loss: 0.6930 - val_binary_accuracy: 0.5200\n",
            "Epoch 2/50\n",
            "1125/1125 [==============================] - 0s 134us/sample - loss: 0.6934 - binary_accuracy: 0.4942 - val_loss: 0.6931 - val_binary_accuracy: 0.5253\n",
            "Epoch 3/50\n",
            "1125/1125 [==============================] - 0s 125us/sample - loss: 0.6934 - binary_accuracy: 0.4720 - val_loss: 0.6935 - val_binary_accuracy: 0.4533\n",
            "Epoch 4/50\n",
            "1125/1125 [==============================] - 0s 124us/sample - loss: 0.6931 - binary_accuracy: 0.4747 - val_loss: 0.6937 - val_binary_accuracy: 0.4587\n",
            "Epoch 5/50\n",
            "1125/1125 [==============================] - 0s 125us/sample - loss: 0.6934 - binary_accuracy: 0.4933 - val_loss: 0.6937 - val_binary_accuracy: 0.5253\n",
            "Epoch 6/50\n",
            "1125/1125 [==============================] - 0s 125us/sample - loss: 0.6931 - binary_accuracy: 0.4756 - val_loss: 0.6939 - val_binary_accuracy: 0.4587\n",
            "Epoch 7/50\n",
            "1125/1125 [==============================] - 0s 123us/sample - loss: 0.6931 - binary_accuracy: 0.4916 - val_loss: 0.6943 - val_binary_accuracy: 0.4587\n",
            "Epoch 8/50\n",
            "1125/1125 [==============================] - 0s 124us/sample - loss: 0.6932 - binary_accuracy: 0.5120 - val_loss: 0.6944 - val_binary_accuracy: 0.4587\n",
            "Epoch 9/50\n",
            "1125/1125 [==============================] - 0s 131us/sample - loss: 0.6930 - binary_accuracy: 0.5120 - val_loss: 0.6946 - val_binary_accuracy: 0.4587\n",
            "Epoch 10/50\n",
            "1125/1125 [==============================] - 0s 125us/sample - loss: 0.6929 - binary_accuracy: 0.5120 - val_loss: 0.6953 - val_binary_accuracy: 0.4587\n",
            "Epoch 11/50\n",
            "1125/1125 [==============================] - 0s 132us/sample - loss: 0.6934 - binary_accuracy: 0.4827 - val_loss: 0.6950 - val_binary_accuracy: 0.4587\n",
            "Epoch 12/50\n",
            "1125/1125 [==============================] - 0s 122us/sample - loss: 0.6933 - binary_accuracy: 0.5120 - val_loss: 0.6952 - val_binary_accuracy: 0.4587\n",
            "Epoch 13/50\n",
            "1125/1125 [==============================] - 0s 127us/sample - loss: 0.6931 - binary_accuracy: 0.5120 - val_loss: 0.6947 - val_binary_accuracy: 0.4587\n",
            "Epoch 14/50\n",
            "1125/1125 [==============================] - 0s 140us/sample - loss: 0.6932 - binary_accuracy: 0.5120 - val_loss: 0.6949 - val_binary_accuracy: 0.4587\n",
            "Epoch 15/50\n",
            "1125/1125 [==============================] - 0s 125us/sample - loss: 0.6932 - binary_accuracy: 0.5120 - val_loss: 0.6945 - val_binary_accuracy: 0.4587\n",
            "Epoch 16/50\n",
            "1125/1125 [==============================] - 0s 138us/sample - loss: 0.6930 - binary_accuracy: 0.5120 - val_loss: 0.6946 - val_binary_accuracy: 0.4587\n",
            "Epoch 17/50\n",
            "1125/1125 [==============================] - 0s 124us/sample - loss: 0.6929 - binary_accuracy: 0.5120 - val_loss: 0.6950 - val_binary_accuracy: 0.4587\n",
            "Epoch 18/50\n",
            "1125/1125 [==============================] - 0s 125us/sample - loss: 0.6931 - binary_accuracy: 0.5120 - val_loss: 0.6954 - val_binary_accuracy: 0.4587\n",
            "Epoch 19/50\n",
            "1125/1125 [==============================] - 0s 125us/sample - loss: 0.6929 - binary_accuracy: 0.5120 - val_loss: 0.6954 - val_binary_accuracy: 0.4587\n",
            "Epoch 20/50\n",
            "1125/1125 [==============================] - 0s 126us/sample - loss: 0.6929 - binary_accuracy: 0.5120 - val_loss: 0.6950 - val_binary_accuracy: 0.4587\n",
            "Epoch 21/50\n",
            "1125/1125 [==============================] - 0s 125us/sample - loss: 0.6929 - binary_accuracy: 0.5120 - val_loss: 0.6956 - val_binary_accuracy: 0.4587\n",
            "Epoch 22/50\n",
            "1125/1125 [==============================] - 0s 125us/sample - loss: 0.6929 - binary_accuracy: 0.5120 - val_loss: 0.6954 - val_binary_accuracy: 0.4587\n",
            "Epoch 23/50\n",
            "1125/1125 [==============================] - 0s 133us/sample - loss: 0.6928 - binary_accuracy: 0.5120 - val_loss: 0.6956 - val_binary_accuracy: 0.4587\n",
            "Epoch 24/50\n",
            "1125/1125 [==============================] - 0s 123us/sample - loss: 0.6929 - binary_accuracy: 0.5120 - val_loss: 0.6960 - val_binary_accuracy: 0.4587\n",
            "Epoch 25/50\n",
            "1125/1125 [==============================] - 0s 124us/sample - loss: 0.6929 - binary_accuracy: 0.5120 - val_loss: 0.6959 - val_binary_accuracy: 0.4587\n",
            "Epoch 26/50\n",
            "1125/1125 [==============================] - 0s 124us/sample - loss: 0.6930 - binary_accuracy: 0.5120 - val_loss: 0.6963 - val_binary_accuracy: 0.4587\n",
            "Epoch 27/50\n",
            "1125/1125 [==============================] - 0s 127us/sample - loss: 0.6929 - binary_accuracy: 0.5120 - val_loss: 0.6960 - val_binary_accuracy: 0.4587\n",
            "Epoch 28/50\n",
            "1125/1125 [==============================] - 0s 125us/sample - loss: 0.6931 - binary_accuracy: 0.5120 - val_loss: 0.6954 - val_binary_accuracy: 0.4587\n",
            "Epoch 29/50\n",
            "1125/1125 [==============================] - 0s 124us/sample - loss: 0.6929 - binary_accuracy: 0.5120 - val_loss: 0.6953 - val_binary_accuracy: 0.4587\n",
            "Epoch 30/50\n",
            "1125/1125 [==============================] - 0s 133us/sample - loss: 0.6929 - binary_accuracy: 0.5120 - val_loss: 0.6956 - val_binary_accuracy: 0.4587\n",
            "Epoch 31/50\n",
            "1125/1125 [==============================] - 0s 123us/sample - loss: 0.6929 - binary_accuracy: 0.5120 - val_loss: 0.6957 - val_binary_accuracy: 0.4587\n",
            "Epoch 32/50\n",
            "1125/1125 [==============================] - 0s 126us/sample - loss: 0.6929 - binary_accuracy: 0.5120 - val_loss: 0.6960 - val_binary_accuracy: 0.4587\n",
            "Epoch 33/50\n",
            "1125/1125 [==============================] - 0s 124us/sample - loss: 0.6928 - binary_accuracy: 0.5120 - val_loss: 0.6957 - val_binary_accuracy: 0.4587\n",
            "Epoch 34/50\n",
            "1125/1125 [==============================] - 0s 125us/sample - loss: 0.6930 - binary_accuracy: 0.5120 - val_loss: 0.6963 - val_binary_accuracy: 0.4587\n",
            "Epoch 35/50\n",
            "1125/1125 [==============================] - 0s 125us/sample - loss: 0.6931 - binary_accuracy: 0.5120 - val_loss: 0.6954 - val_binary_accuracy: 0.4587\n",
            "Epoch 36/50\n",
            "1125/1125 [==============================] - 0s 125us/sample - loss: 0.6930 - binary_accuracy: 0.5120 - val_loss: 0.6963 - val_binary_accuracy: 0.4587\n",
            "Epoch 37/50\n",
            "1125/1125 [==============================] - 0s 133us/sample - loss: 0.6929 - binary_accuracy: 0.5120 - val_loss: 0.6959 - val_binary_accuracy: 0.4587\n",
            "Epoch 38/50\n",
            "1125/1125 [==============================] - 0s 125us/sample - loss: 0.6930 - binary_accuracy: 0.5120 - val_loss: 0.6953 - val_binary_accuracy: 0.4587\n",
            "Epoch 39/50\n",
            "1125/1125 [==============================] - 0s 126us/sample - loss: 0.6931 - binary_accuracy: 0.5013 - val_loss: 0.6955 - val_binary_accuracy: 0.4587\n",
            "Epoch 40/50\n",
            "1125/1125 [==============================] - 0s 124us/sample - loss: 0.6929 - binary_accuracy: 0.5120 - val_loss: 0.6963 - val_binary_accuracy: 0.4587\n",
            "Epoch 41/50\n",
            "1125/1125 [==============================] - 0s 125us/sample - loss: 0.6932 - binary_accuracy: 0.5120 - val_loss: 0.6958 - val_binary_accuracy: 0.4587\n",
            "Epoch 42/50\n",
            "1125/1125 [==============================] - 0s 125us/sample - loss: 0.6932 - binary_accuracy: 0.5120 - val_loss: 0.6954 - val_binary_accuracy: 0.4587\n",
            "Epoch 43/50\n",
            "1125/1125 [==============================] - 0s 123us/sample - loss: 0.6930 - binary_accuracy: 0.5120 - val_loss: 0.6957 - val_binary_accuracy: 0.4587\n",
            "Epoch 44/50\n",
            "1125/1125 [==============================] - 0s 132us/sample - loss: 0.6929 - binary_accuracy: 0.5120 - val_loss: 0.6956 - val_binary_accuracy: 0.4587\n",
            "Epoch 45/50\n",
            "1125/1125 [==============================] - 0s 124us/sample - loss: 0.6929 - binary_accuracy: 0.5120 - val_loss: 0.6953 - val_binary_accuracy: 0.4587\n",
            "Epoch 46/50\n",
            "1125/1125 [==============================] - 0s 125us/sample - loss: 0.6930 - binary_accuracy: 0.5120 - val_loss: 0.6950 - val_binary_accuracy: 0.4587\n",
            "Epoch 47/50\n",
            "1125/1125 [==============================] - 0s 123us/sample - loss: 0.6930 - binary_accuracy: 0.5120 - val_loss: 0.6945 - val_binary_accuracy: 0.4587\n",
            "Epoch 48/50\n",
            "1125/1125 [==============================] - 0s 123us/sample - loss: 0.6929 - binary_accuracy: 0.5120 - val_loss: 0.6949 - val_binary_accuracy: 0.4587\n",
            "Epoch 49/50\n",
            "1125/1125 [==============================] - 0s 125us/sample - loss: 0.6929 - binary_accuracy: 0.5120 - val_loss: 0.6954 - val_binary_accuracy: 0.4587\n",
            "Epoch 50/50\n",
            "1125/1125 [==============================] - 0s 123us/sample - loss: 0.6929 - binary_accuracy: 0.5120 - val_loss: 0.6954 - val_binary_accuracy: 0.4587\n"
          ],
          "name": "stdout"
        },
        {
          "output_type": "display_data",
          "data": {
            "image/png": "[encoded data removed]",
            "text/plain": [
              "<Figure size 432x288 with 1 Axes>"
            ]
          },
          "metadata": {
            "tags": []
          }
        }
      ]
    },
    {
      "cell_type": "markdown",
      "metadata": {
        "id": "P5eKDmX8ODBE",
        "colab_type": "text"
      },
      "source": [
        "Similarly, we can plot the accuracy of our neural network on the binary classification task. The metric used in this example is the _binary accuracy_, which calculates the proportion of predictions that match labels or response variables. Other metrics may be used in different tasks -- for example, the _mean squared error_ is typically used to measure the accuracy for continuous response variables (e.g. polygenic risk scores, total serum cholesterol level, height, weight and systolic blood pressure)."
      ]
    },
    {
      "cell_type": "code",
      "metadata": {
        "id": "J2Jdpa1i8zqM",
        "colab_type": "code",
        "outputId": "8655363c-0858-4be6-878c-90998a83e4b5",
        "colab": {
          "base_uri": "https://localhost:8080/",
          "height": 295
        }
      },
      "source": [
        "plt.figure()\n",
        "plt.plot(history.history['binary_accuracy'])\n",
        "plt.plot(history.history['val_binary_accuracy'])\n",
        "plt.title('model accuracy')\n",
        "plt.ylabel('accuracy')\n",
        "plt.xlabel('epoch')\n",
        "plt.legend(['train', 'validation'])\n",
        "plt.show()"
      ],
      "execution_count": 0,
      "outputs": [
        {
          "output_type": "display_data",
          "data": {
            "image/png": "[encoded data removed]",
            "text/plain": [
              "<Figure size 432x288 with 1 Axes>"
            ]
          },
          "metadata": {
            "tags": []
          }
        }
      ]
    },
    {
      "cell_type": "markdown",
      "metadata": {
        "id": "6Xy7VhhZg-hN",
        "colab_type": "text"
      },
      "source": [
        "## 3. Evaluate"
      ]
    },
    {
      "cell_type": "markdown",
      "metadata": {
        "id": "btf7FyMVsnFA",
        "colab_type": "text"
      },
      "source": [
        "![alt text](https://github.com/abidlabs/deep-learning-genomics-primer/blob/master/Screenshot%20from%202018-08-01%2020-32-12.png?raw=true)"
      ]
    },
    {
      "cell_type": "markdown",
      "metadata": {
        "id": "eQ_xYCvfvFlE",
        "colab_type": "text"
      },
      "source": [
        "The best way to evaluate whether the network has learned to classify sequences is to evaluate its performance on a fresh test set consisting of data that it has not observed at all during training. Here, we evaluate the model on the test set and plot the results as a confusion matrix. Nearly every test sequence should be correctly classified."
      ]
    },
    {
      "cell_type": "code",
      "metadata": {
        "id": "J1bvxV9J-EMT",
        "colab_type": "code",
        "outputId": "9142e6eb-5e8b-4008-9482-34878897c07a",
        "colab": {
          "base_uri": "https://localhost:8080/",
          "height": 416
        }
      },
      "source": [
        "from sklearn.metrics import confusion_matrix\n",
        "import itertools\n",
        "\n",
        "predicted_labels = model.predict(np.stack(test_features))\n",
        "cm = confusion_matrix(np.argmax(test_labels, axis=1), \n",
        "                      np.argmax(predicted_labels, axis=1))\n",
        "print('Confusion matrix:\\n',cm)\n",
        "\n",
        "cm = cm.astype('float') / cm.sum(axis = 1)[:, np.newaxis]\n",
        "\n",
        "plt.imshow(cm, cmap=plt.cm.Blues)\n",
        "plt.title('Normalized confusion matrix')\n",
        "plt.colorbar()\n",
        "plt.xlabel('True label')\n",
        "plt.ylabel('Predicted label')\n",
        "plt.xticks([0, 1]); plt.yticks([0, 1])\n",
        "plt.grid('off')\n",
        "for i, j in itertools.product(range(cm.shape[0]), range(cm.shape[1])):\n",
        "    plt.text(j, i, format(cm[i, j], '.2f'),\n",
        "             horizontalalignment='center',\n",
        "             color='white' if cm[i, j] > 0.5 else 'black')"
      ],
      "execution_count": 0,
      "outputs": [
        {
          "output_type": "stream",
          "text": [
            "Confusion matrix:\n",
            " [[ 32 227]\n",
            " [ 30 211]]\n"
          ],
          "name": "stdout"
        },
        {
          "output_type": "stream",
          "text": [
            "/usr/local/lib/python3.6/dist-packages/matplotlib/cbook/__init__.py:424: MatplotlibDeprecationWarning: \n",
            "Passing one of 'on', 'true', 'off', 'false' as a boolean is deprecated; use an actual boolean (True/False) instead.\n",
            "  warn_deprecated(\"2.2\", \"Passing one of 'on', 'true', 'off', 'false' as a \"\n"
          ],
          "name": "stderr"
        },
        {
          "output_type": "display_data",
          "data": {
            "image/png": "[encoded data removed]",
            "text/plain": [
              "<Figure size 432x288 with 2 Axes>"
            ]
          },
          "metadata": {
            "tags": []
          }
        }
      ]
    },
    {
      "cell_type": "markdown",
      "metadata": {
        "id": "gQTNLfbt3HBR",
        "colab_type": "text"
      },
      "source": [
        "## Compute accuracy value\n",
        "\n"
      ]
    },
    {
      "cell_type": "code",
      "metadata": {
        "id": "Oy2W0Rid3LB3",
        "colab_type": "code",
        "outputId": "7e8633e6-ea00-481d-bfa7-6816b1d24501",
        "colab": {
          "base_uri": "https://localhost:8080/",
          "height": 34
        }
      },
      "source": [
        "accuracy = (32+211)/ (32+211+227+30) # YOUR CODE GOES HERE\n",
        "print(\"The accuracy is \", 100*accuracy,\"%\")"
      ],
      "execution_count": 0,
      "outputs": [
        {
          "output_type": "stream",
          "text": [
            "The accuracy is  48.6 %\n"
          ],
          "name": "stdout"
        }
      ]
    },
    {
      "cell_type": "markdown",
      "metadata": {
        "id": "EP22-36l3csA",
        "colab_type": "text"
      },
      "source": [
        "# Optimize Word Length and Target Dimensions\n",
        "\n",
        "Enter manually 9 accuracy values for different values of `targetdim` (columns) and `wordlen` (rows):\n",
        "\n",
        "\n",
        "|---| 2 | 3 | 4 |\n",
        "|---|---|---|----|\n",
        "|2 | 9  | 9 | 9 |\n",
        "|3 | 19  | 19 | 19 |\n",
        "|4 | 23 | 23 | 23 |\n",
        "\n"
      ]
    },
    {
      "cell_type": "code",
      "metadata": {
        "id": "ksCO6w7m39Gp",
        "colab_type": "code",
        "colab": {}
      },
      "source": [
        ""
      ],
      "execution_count": 0,
      "outputs": []
    }
  ]
}